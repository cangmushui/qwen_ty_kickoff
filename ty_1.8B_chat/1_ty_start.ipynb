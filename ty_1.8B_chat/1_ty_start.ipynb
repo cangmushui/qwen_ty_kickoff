{
 "cells": [
  {
   "cell_type": "code",
   "execution_count": 2,
   "metadata": {},
   "outputs": [
    {
     "name": "stderr",
     "output_type": "stream",
     "text": [
      "2024-05-23 15:57:08,819 - modelscope - WARNING - Model revision not specified, use revision: v1.0.0\n",
      "Try importing flash-attention for faster inference...\n"
     ]
    },
    {
     "name": "stdout",
     "output_type": "stream",
     "text": [
      "end\n"
     ]
    }
   ],
   "source": [
    "# 导入模型\n",
    "from modelscope import snapshot_download\n",
    "from transformers import AutoModelForCausalLM, AutoTokenizer, AutoConfig\n",
    "\n",
    "# Downloading model checkpoint to a local dir model_dir\n",
    "# model_dir = snapshot_download('qwen/Qwen-7B')\n",
    "# model_dir = snapshot_download('qwen/Qwen-7B-Chat')\n",
    "# model_dir = snapshot_download('qwen/Qwen-14B')\n",
    "# model_dir = snapshot_download('qwen/Qwen-14B-Chat')\n",
    "model_dir = snapshot_download('qwen/Qwen-1_8B-Chat-Int4')\n",
    "# config = AutoConfig.from_pretrained(model_dir,\n",
    "#                                           trust_remote_code=True)\n",
    "# config.disable_exllama = True\n",
    "# Loading local checkpoints\n",
    "# trust_remote_code is still set as True since we still load codes from local dir instead of transformers\n",
    "tokenizer = AutoTokenizer.from_pretrained(model_dir, trust_remote_code=True)\n",
    "model = AutoModelForCausalLM.from_pretrained(\n",
    "    model_dir,\n",
    "    device_map=\"cuda:0\",\n",
    "    trust_remote_code=True\n",
    ").eval()\n",
    "print(\"end\")"
   ]
  },
  {
   "cell_type": "code",
   "execution_count": 3,
   "metadata": {},
   "outputs": [
    {
     "name": "stdout",
     "output_type": "stream",
     "text": [
      "城市: 青岛\n",
      "日期: 1月2日\n"
     ]
    }
   ],
   "source": [
    "# 测试模型的城市与日期提取能力, 可以看到没有微调的是不稳定的\n",
    "Q='1月2号青岛天气预报'\n",
    "prompt_template='''\n",
    "分析问题中出现过的城市和日期\n",
    "\n",
    "交互格式如下:\n",
    "\n",
    "问题:用户的原始问题，里面可能包含了城市和日期信息\n",
    "回答:提炼问题中出现的城市名称和具体日期，按格式整理返回\n",
    "    城市:值是城市的名字\n",
    "    日期:值是具体日期\n",
    "现在开始。\n",
    "\n",
    "问题:%s\n",
    "回答:\n",
    "'''\n",
    "prompt=prompt_template%(Q,)#print(prompt)\n",
    "resp,hist=model.chat(tokenizer,prompt,history=None)\n",
    "print(resp)"
   ]
  }
 ],
 "metadata": {
  "kernelspec": {
   "display_name": "base",
   "language": "python",
   "name": "python3"
  },
  "language_info": {
   "codemirror_mode": {
    "name": "ipython",
    "version": 3
   },
   "file_extension": ".py",
   "mimetype": "text/x-python",
   "name": "python",
   "nbconvert_exporter": "python",
   "pygments_lexer": "ipython3",
   "version": "3.8.19"
  }
 },
 "nbformat": 4,
 "nbformat_minor": 2
}
