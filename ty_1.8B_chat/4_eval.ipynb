{
 "cells": [
  {
   "cell_type": "code",
   "execution_count": 1,
   "metadata": {},
   "outputs": [
    {
     "name": "stderr",
     "output_type": "stream",
     "text": [
      "CUDA extension not installed.\n",
      "CUDA extension not installed.\n",
      "Try importing flash-attention for faster inference...\n"
     ]
    }
   ],
   "source": [
    "from peft import AutoPeftModelForCausalLM\n",
    "from transformers import AutoTokenizer\n",
    "\n",
    "model = AutoPeftModelForCausalLM.from_pretrained(\n",
    "    'output_qwen', # path to the output directory\n",
    "    device_map=\"cuda:0\",\n",
    "    trust_remote_code=True\n",
    ").eval()\n",
    "tokenizer = AutoTokenizer.from_pretrained('/fs1/private/user/baitongyuan/.cache/modelscope \\\n",
    "/hub/qwen/Qwen-1_8B-Chat-Int4', trust_remote_code=True)"
   ]
  },
  {
   "cell_type": "code",
   "execution_count": 2,
   "metadata": {},
   "outputs": [
    {
     "name": "stdout",
     "output_type": "stream",
     "text": [
      "Q:2020年4月16号三亚下雨么？\n",
      "A:城市:三亚\n",
      "日期:2020-04-16\n",
      "\n",
      "Q:青岛3-15号天气预报\n",
      "A:城市:青岛\n",
      "日期:03-15\n",
      "\n",
      "Q:5月6号下雪么，城市是威海\n",
      "A:城市:威海\n",
      "日期:05-06\n",
      "\n",
      "Q:青岛2023年12月30号有雾霾么?\n",
      "A:城市:青岛\n",
      "日期:2023-12-30\n",
      "\n",
      "Q:我打算6月1号去北京旅游，请问天气怎么样？\n",
      "A:城市:北京\n",
      "日期:06-01\n",
      "\n",
      "Q:你们打算1月3号坐哪一趟航班去上海？\n",
      "A:城市:上海\n",
      "日期:01-03\n",
      "\n",
      "Q:小明和小红是8月8号在上海结婚么?\n",
      "A:城市:上海\n",
      "日期:08-08\n",
      "\n",
      "Q:一起去东北看冰雕么，大概是1月15号左右，我们3个人一起\n",
      "A:城市:东北\n",
      "日期:01-15\n",
      "\n"
     ]
    }
   ],
   "source": [
    "prompt_template='''\n",
    "给定一句话：“%s”，请你按步骤要求工作。\n",
    "\n",
    "步骤1：识别这句话中的城市和日期共2个信息\n",
    "步骤2：根据城市和日期信息，生成JSON字符串，格式为{\"city\":城市,\"date\":日期}\n",
    "\n",
    "请问，这个JSON字符串是：\n",
    "'''\n",
    "model.generation_config.top_p=0 # 只选择概率最高的token\n",
    "\n",
    "Q_list=['2020年4月16号三亚下雨么？','青岛3-15号天气预报','5月6号下雪么，城市是威海','青岛2023年12月30号有雾霾么?','我打算6月1号去北京旅游，请问天气怎么样？','你们打算1月3号坐哪一趟航班去上海？','小明和小红是8月8号在上海结婚么?',\n",
    "        '一起去东北看冰雕么，大概是1月15号左右，我们3个人一起']\n",
    "for Q in Q_list:\n",
    "    prompt=prompt_template%(Q,)\n",
    "    A,hist=model.chat(tokenizer,prompt,history=None)\n",
    "    print('Q:%s\\nA:%s\\n'%(Q,A))"
   ]
  }
 ],
 "metadata": {
  "kernelspec": {
   "display_name": "llm",
   "language": "python",
   "name": "python3"
  },
  "language_info": {
   "codemirror_mode": {
    "name": "ipython",
    "version": 3
   },
   "file_extension": ".py",
   "mimetype": "text/x-python",
   "name": "python",
   "nbconvert_exporter": "python",
   "pygments_lexer": "ipython3",
   "version": "3.8.19"
  }
 },
 "nbformat": 4,
 "nbformat_minor": 2
}
